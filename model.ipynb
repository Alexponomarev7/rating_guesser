{
 "cells": [
  {
   "cell_type": "code",
   "execution_count": 2,
   "id": "boxed-package",
   "metadata": {},
   "outputs": [],
   "source": [
    "# !pip install transformers"
   ]
  },
  {
   "cell_type": "code",
   "execution_count": null,
   "id": "ranging-holocaust",
   "metadata": {},
   "outputs": [],
   "source": []
  },
  {
   "cell_type": "markdown",
   "id": "lesser-yemen",
   "metadata": {},
   "source": [
    "# Dataset exploration"
   ]
  },
  {
   "cell_type": "code",
   "execution_count": 1,
   "id": "cordless-decimal",
   "metadata": {},
   "outputs": [],
   "source": [
    "import pandas as pd\n",
    "from transformers import AutoTokenizer, AutoModel\n",
    "import matplotlib.pyplot as plt"
   ]
  },
  {
   "cell_type": "code",
   "execution_count": 2,
   "id": "asian-bulgaria",
   "metadata": {},
   "outputs": [],
   "source": [
    "def converter(item):\n",
    "    if item == '-':\n",
    "        return -1\n",
    "    return int(item)\n",
    "\n",
    "data = pd.read_csv('translated_data.csv', index_col=0, converters={\n",
    "    'service': converter, \n",
    "    'flavour': converter,\n",
    "    'speed': converter\n",
    "})"
   ]
  },
  {
   "cell_type": "code",
   "execution_count": 3,
   "id": "decent-merchant",
   "metadata": {},
   "outputs": [
    {
     "data": {
      "text/html": [
       "<div>\n",
       "<style scoped>\n",
       "    .dataframe tbody tr th:only-of-type {\n",
       "        vertical-align: middle;\n",
       "    }\n",
       "\n",
       "    .dataframe tbody tr th {\n",
       "        vertical-align: top;\n",
       "    }\n",
       "\n",
       "    .dataframe thead th {\n",
       "        text-align: right;\n",
       "    }\n",
       "</style>\n",
       "<table border=\"1\" class=\"dataframe\">\n",
       "  <thead>\n",
       "    <tr style=\"text-align: right;\">\n",
       "      <th></th>\n",
       "      <th>speed</th>\n",
       "      <th>service</th>\n",
       "      <th>flavour</th>\n",
       "      <th>review</th>\n",
       "    </tr>\n",
       "  </thead>\n",
       "  <tbody>\n",
       "    <tr>\n",
       "      <th>0</th>\n",
       "      <td>-1</td>\n",
       "      <td>1</td>\n",
       "      <td>1</td>\n",
       "      <td>As I always order from the neighboring bakery,...</td>\n",
       "    </tr>\n",
       "    <tr>\n",
       "      <th>1</th>\n",
       "      <td>-1</td>\n",
       "      <td>10</td>\n",
       "      <td>2</td>\n",
       "      <td>Can you send something with cheese to the man ...</td>\n",
       "    </tr>\n",
       "    <tr>\n",
       "      <th>2</th>\n",
       "      <td>-1</td>\n",
       "      <td>10</td>\n",
       "      <td>10</td>\n",
       "      <td>Thank you very much to your teammate who broug...</td>\n",
       "    </tr>\n",
       "    <tr>\n",
       "      <th>3</th>\n",
       "      <td>1</td>\n",
       "      <td>1</td>\n",
       "      <td>7</td>\n",
       "      <td>After waiting more than one hour, they didn't ...</td>\n",
       "    </tr>\n",
       "    <tr>\n",
       "      <th>4</th>\n",
       "      <td>4</td>\n",
       "      <td>4</td>\n",
       "      <td>1</td>\n",
       "      <td>Although I told it to cook well, it came under...</td>\n",
       "    </tr>\n",
       "    <tr>\n",
       "      <th>...</th>\n",
       "      <td>...</td>\n",
       "      <td>...</td>\n",
       "      <td>...</td>\n",
       "      <td>...</td>\n",
       "    </tr>\n",
       "    <tr>\n",
       "      <th>60237</th>\n",
       "      <td>10</td>\n",
       "      <td>10</td>\n",
       "      <td>10</td>\n",
       "      <td>Super.</td>\n",
       "    </tr>\n",
       "    <tr>\n",
       "      <th>60238</th>\n",
       "      <td>10</td>\n",
       "      <td>10</td>\n",
       "      <td>10</td>\n",
       "      <td>You are perfect.</td>\n",
       "    </tr>\n",
       "    <tr>\n",
       "      <th>60239</th>\n",
       "      <td>10</td>\n",
       "      <td>10</td>\n",
       "      <td>10</td>\n",
       "      <td>Be sure to try the legendary soup.</td>\n",
       "    </tr>\n",
       "    <tr>\n",
       "      <th>60240</th>\n",
       "      <td>10</td>\n",
       "      <td>10</td>\n",
       "      <td>10</td>\n",
       "      <td>You are awesome!</td>\n",
       "    </tr>\n",
       "    <tr>\n",
       "      <th>60241</th>\n",
       "      <td>9</td>\n",
       "      <td>9</td>\n",
       "      <td>9</td>\n",
       "      <td>I found the spaghetti very greasy but it was hot.</td>\n",
       "    </tr>\n",
       "  </tbody>\n",
       "</table>\n",
       "<p>60242 rows × 4 columns</p>\n",
       "</div>"
      ],
      "text/plain": [
       "       speed  service  flavour   \n",
       "0         -1        1        1  \\\n",
       "1         -1       10        2   \n",
       "2         -1       10       10   \n",
       "3          1        1        7   \n",
       "4          4        4        1   \n",
       "...      ...      ...      ...   \n",
       "60237     10       10       10   \n",
       "60238     10       10       10   \n",
       "60239     10       10       10   \n",
       "60240     10       10       10   \n",
       "60241      9        9        9   \n",
       "\n",
       "                                                  review  \n",
       "0      As I always order from the neighboring bakery,...  \n",
       "1      Can you send something with cheese to the man ...  \n",
       "2      Thank you very much to your teammate who broug...  \n",
       "3      After waiting more than one hour, they didn't ...  \n",
       "4      Although I told it to cook well, it came under...  \n",
       "...                                                  ...  \n",
       "60237                                             Super.  \n",
       "60238                                   You are perfect.  \n",
       "60239                 Be sure to try the legendary soup.  \n",
       "60240                                   You are awesome!  \n",
       "60241  I found the spaghetti very greasy but it was hot.  \n",
       "\n",
       "[60242 rows x 4 columns]"
      ]
     },
     "execution_count": 3,
     "metadata": {},
     "output_type": "execute_result"
    }
   ],
   "source": [
    "data"
   ]
  },
  {
   "cell_type": "code",
   "execution_count": 4,
   "id": "transsexual-extra",
   "metadata": {},
   "outputs": [
    {
     "data": {
      "image/png": "[encoded data removed]",
      "text/plain": [
       "<Figure size 640x480 with 1 Axes>"
      ]
     },
     "metadata": {},
     "output_type": "display_data"
    }
   ],
   "source": [
    "ax = data['service'].plot.hist(bins=12, alpha=0.5)\n",
    "ax = ax.set_title('Service')"
   ]
  },
  {
   "cell_type": "code",
   "execution_count": 5,
   "id": "clear-stopping",
   "metadata": {},
   "outputs": [
    {
     "data": {
      "image/png": "[encoded data removed]",
      "text/plain": [
       "<Figure size 640x480 with 1 Axes>"
      ]
     },
     "metadata": {},
     "output_type": "display_data"
    }
   ],
   "source": [
    "ax = data['flavour'].plot.hist(bins=12, alpha=0.5)\n",
    "ax = ax.set_title('Flavour')"
   ]
  },
  {
   "cell_type": "code",
   "execution_count": 6,
   "id": "french-daisy",
   "metadata": {},
   "outputs": [
    {
     "data": {
      "image/png": "[encoded data removed]",
      "text/plain": [
       "<Figure size 640x480 with 1 Axes>"
      ]
     },
     "metadata": {},
     "output_type": "display_data"
    }
   ],
   "source": [
    "ax = data['speed'].plot.hist(bins=12, alpha=0.5)\n",
    "ax = ax.set_title('Speed')"
   ]
  },
  {
   "cell_type": "code",
   "execution_count": 8,
   "id": "vocal-apparel",
   "metadata": {},
   "outputs": [
    {
     "data": {
      "text/html": [
       "<div>\n",
       "<style scoped>\n",
       "    .dataframe tbody tr th:only-of-type {\n",
       "        vertical-align: middle;\n",
       "    }\n",
       "\n",
       "    .dataframe tbody tr th {\n",
       "        vertical-align: top;\n",
       "    }\n",
       "\n",
       "    .dataframe thead th {\n",
       "        text-align: right;\n",
       "    }\n",
       "</style>\n",
       "<table border=\"1\" class=\"dataframe\">\n",
       "  <thead>\n",
       "    <tr style=\"text-align: right;\">\n",
       "      <th></th>\n",
       "      <th>speed</th>\n",
       "      <th>service</th>\n",
       "      <th>flavour</th>\n",
       "    </tr>\n",
       "  </thead>\n",
       "  <tbody>\n",
       "    <tr>\n",
       "      <th>speed</th>\n",
       "      <td>1.000000</td>\n",
       "      <td>0.594127</td>\n",
       "      <td>0.562782</td>\n",
       "    </tr>\n",
       "    <tr>\n",
       "      <th>service</th>\n",
       "      <td>0.594127</td>\n",
       "      <td>1.000000</td>\n",
       "      <td>0.827189</td>\n",
       "    </tr>\n",
       "    <tr>\n",
       "      <th>flavour</th>\n",
       "      <td>0.562782</td>\n",
       "      <td>0.827189</td>\n",
       "      <td>1.000000</td>\n",
       "    </tr>\n",
       "  </tbody>\n",
       "</table>\n",
       "</div>"
      ],
      "text/plain": [
       "            speed   service   flavour\n",
       "speed    1.000000  0.594127  0.562782\n",
       "service  0.594127  1.000000  0.827189\n",
       "flavour  0.562782  0.827189  1.000000"
      ]
     },
     "execution_count": 8,
     "metadata": {},
     "output_type": "execute_result"
    }
   ],
   "source": [
    "columns = ['speed', 'service', 'flavour']\n",
    "data[columns].corr()"
   ]
  },
  {
   "cell_type": "code",
   "execution_count": 9,
   "id": "informal-storm",
   "metadata": {},
   "outputs": [
    {
     "data": {
      "image/png": "[encoded data removed]",
      "text/plain": [
       "<Figure size 1000x600 with 2 Axes>"
      ]
     },
     "metadata": {},
     "output_type": "display_data"
    }
   ],
   "source": [
    "f = plt.figure(figsize=(10, 6))\n",
    "plt.matshow(data[columns].corr(), fignum=f.number)\n",
    "plt.xticks(range(len(columns)), columns, fontsize=14, rotation=45)\n",
    "plt.yticks(range(len(columns)), columns, fontsize=14)\n",
    "cb = plt.colorbar()\n",
    "cb.ax.tick_params(labelsize=14)\n",
    "plt.title('Correlation Matrix', fontsize=16);"
   ]
  },
  {
   "cell_type": "markdown",
   "id": "massive-genome",
   "metadata": {},
   "source": [
    "As we can see we have a big correlation between service and flavour ~0.83 and smaller correlation between speed and others ~0.6. This fact makes sense for our analysis. We can try to extract three different predictions from one text."
   ]
  },
  {
   "cell_type": "code",
   "execution_count": 10,
   "id": "broadband-labor",
   "metadata": {},
   "outputs": [
    {
     "name": "stdout",
     "output_type": "stream",
     "text": [
      "2918\n"
     ]
    }
   ],
   "source": [
    "invalid_rows = []\n",
    "for i, row in enumerate(data.iterrows()):\n",
    "    if row[1][0] == -1 or row[1][1] == -1 or row[1][2] == -1:\n",
    "        invalid_rows.append(i)\n",
    "print(len(invalid_rows))"
   ]
  },
  {
   "cell_type": "markdown",
   "id": "irish-vietnamese",
   "metadata": {},
   "source": [
    "We have some rows without speed rating, for checking our hypothesis it's ok to drop them."
   ]
  },
  {
   "cell_type": "code",
   "execution_count": 11,
   "id": "skilled-office",
   "metadata": {},
   "outputs": [
    {
     "data": {
      "text/html": [
       "<div>\n",
       "<style scoped>\n",
       "    .dataframe tbody tr th:only-of-type {\n",
       "        vertical-align: middle;\n",
       "    }\n",
       "\n",
       "    .dataframe tbody tr th {\n",
       "        vertical-align: top;\n",
       "    }\n",
       "\n",
       "    .dataframe thead th {\n",
       "        text-align: right;\n",
       "    }\n",
       "</style>\n",
       "<table border=\"1\" class=\"dataframe\">\n",
       "  <thead>\n",
       "    <tr style=\"text-align: right;\">\n",
       "      <th></th>\n",
       "      <th>speed</th>\n",
       "      <th>service</th>\n",
       "      <th>flavour</th>\n",
       "      <th>review</th>\n",
       "    </tr>\n",
       "  </thead>\n",
       "  <tbody>\n",
       "    <tr>\n",
       "      <th>3</th>\n",
       "      <td>1</td>\n",
       "      <td>1</td>\n",
       "      <td>7</td>\n",
       "      <td>After waiting more than one hour, they didn't ...</td>\n",
       "    </tr>\n",
       "    <tr>\n",
       "      <th>4</th>\n",
       "      <td>4</td>\n",
       "      <td>4</td>\n",
       "      <td>1</td>\n",
       "      <td>Although I told it to cook well, it came under...</td>\n",
       "    </tr>\n",
       "    <tr>\n",
       "      <th>5</th>\n",
       "      <td>1</td>\n",
       "      <td>1</td>\n",
       "      <td>1</td>\n",
       "      <td>It's a shame you brought a stinky hamburger, i...</td>\n",
       "    </tr>\n",
       "    <tr>\n",
       "      <th>6</th>\n",
       "      <td>10</td>\n",
       "      <td>10</td>\n",
       "      <td>10</td>\n",
       "      <td>They bring every food with care and the taste ...</td>\n",
       "    </tr>\n",
       "    <tr>\n",
       "      <th>7</th>\n",
       "      <td>1</td>\n",
       "      <td>1</td>\n",
       "      <td>1</td>\n",
       "      <td>God forgive me, it was very bad, nothing will ...</td>\n",
       "    </tr>\n",
       "  </tbody>\n",
       "</table>\n",
       "</div>"
      ],
      "text/plain": [
       "   speed  service  flavour                                             review\n",
       "3      1        1        7  After waiting more than one hour, they didn't ...\n",
       "4      4        4        1  Although I told it to cook well, it came under...\n",
       "5      1        1        1  It's a shame you brought a stinky hamburger, i...\n",
       "6     10       10       10  They bring every food with care and the taste ...\n",
       "7      1        1        1  God forgive me, it was very bad, nothing will ..."
      ]
     },
     "execution_count": 11,
     "metadata": {},
     "output_type": "execute_result"
    }
   ],
   "source": [
    "filtered_data = data.drop(invalid_rows)\n",
    "filtered_data.head()"
   ]
  },
  {
   "cell_type": "markdown",
   "id": "swedish-cigarette",
   "metadata": {},
   "source": [
    "Let's take a look on data with '-' in the ratings. I guess there is no connection between '-' in the review and the text of it. So we will use such data for test."
   ]
  },
  {
   "cell_type": "code",
   "execution_count": 12,
   "id": "living-child",
   "metadata": {},
   "outputs": [
    {
     "data": {
      "text/plain": [
       "array([[-1, 1, 1,\n",
       "        \"As I always order from the neighboring bakery, I found that it was sent incomplete. Old neighbor bakery service mentality where 2 pieces of cherry cookies sent without notice to complete can't be apologized.\"],\n",
       "       [-1, 10, 2,\n",
       "        \"Can you send something with cheese to the man who wants a hot dog? They changed it and sent it. If you don't have it, call and tell, it's ridiculous..\"],\n",
       "       [-1, 10, 10,\n",
       "        'Thank you very much to your teammate who brought my order very quickly.'],\n",
       "       [-1, 10, 10, 'Nice meal.'],\n",
       "       [-1, 1, 1,\n",
       "        \"Is it a wet hamburger without sauce? It's a disgrace. Also, the patso was very bad, the bread separated, a very bad ketchup. I couldn't put the patch.\"]],\n",
       "      dtype=object)"
      ]
     },
     "execution_count": 12,
     "metadata": {},
     "output_type": "execute_result"
    }
   ],
   "source": [
    "data.values[invalid_rows][:5]"
   ]
  },
  {
   "cell_type": "code",
   "execution_count": 13,
   "id": "covered-fields",
   "metadata": {},
   "outputs": [],
   "source": [
    "from transformers import AutoTokenizer, AutoModel"
   ]
  },
  {
   "cell_type": "code",
   "execution_count": 14,
   "id": "tested-tobago",
   "metadata": {},
   "outputs": [],
   "source": [
    "tokenizer = AutoTokenizer.from_pretrained(\"bert-base-uncased\")"
   ]
  },
  {
   "cell_type": "code",
   "execution_count": 15,
   "id": "optional-pitch",
   "metadata": {},
   "outputs": [
    {
     "name": "stderr",
     "output_type": "stream",
     "text": [
      "Some weights of the model checkpoint at bert-base-uncased were not used when initializing BertModel: ['cls.seq_relationship.bias', 'cls.predictions.transform.LayerNorm.weight', 'cls.predictions.transform.LayerNorm.bias', 'cls.predictions.transform.dense.bias', 'cls.predictions.bias', 'cls.seq_relationship.weight', 'cls.predictions.transform.dense.weight', 'cls.predictions.decoder.weight']\n",
      "- This IS expected if you are initializing BertModel from the checkpoint of a model trained on another task or with another architecture (e.g. initializing a BertForSequenceClassification model from a BertForPreTraining model).\n",
      "- This IS NOT expected if you are initializing BertModel from the checkpoint of a model that you expect to be exactly identical (initializing a BertForSequenceClassification model from a BertForSequenceClassification model).\n"
     ]
    }
   ],
   "source": [
    "model = AutoModel.from_pretrained(\"bert-base-uncased\")"
   ]
  },
  {
   "cell_type": "code",
   "execution_count": 96,
   "id": "focused-brown",
   "metadata": {},
   "outputs": [
    {
     "data": {
      "text/plain": [
       "{'input_ids': tensor([[ 101, 2054, 2003, 1045, 2572,  999,  102],\n",
       "        [ 101, 7632, 2080, 1040,  102,    0,    0]]), 'token_type_ids': tensor([[0, 0, 0, 0, 0, 0, 0],\n",
       "        [0, 0, 0, 0, 0, 0, 0]]), 'attention_mask': tensor([[1, 1, 1, 1, 1, 1, 1],\n",
       "        [1, 1, 1, 1, 1, 0, 0]])}"
      ]
     },
     "execution_count": 96,
     "metadata": {},
     "output_type": "execute_result"
    }
   ],
   "source": [
    "inputs = tokenizer([\"what is i am!\", \"hio d\"], return_tensors=\"pt\", padding=True)\n",
    "inputs"
   ]
  },
  {
   "cell_type": "code",
   "execution_count": 48,
   "id": "neural-azerbaijan",
   "metadata": {},
   "outputs": [],
   "source": [
    "outputs = model(**inputs)\n"
   ]
  },
  {
   "cell_type": "code",
   "execution_count": 87,
   "id": "foreign-madagascar",
   "metadata": {},
   "outputs": [
    {
     "data": {
      "text/plain": [
       "torch.Size([1, 768])"
      ]
     },
     "execution_count": 87,
     "metadata": {},
     "output_type": "execute_result"
    }
   ],
   "source": [
    "outputs.pooler_output.shape"
   ]
  },
  {
   "cell_type": "markdown",
   "id": "suspected-journalist",
   "metadata": {},
   "source": [
    "Conclusions:\n",
    "* Ratings are very imbalanced, our naive approach that it is okay for our NN\n",
    "* There is a positive correlaction between different types of rating, but not close to 1, so it makes sense to solve these problems\n",
    "* Some [researches](https://towardsdatascience.com/1-to-5-star-ratings-classification-or-regression-b0462708a4df) show that for rating prediction task it's better to setup classification task. We will try two approaches"
   ]
  },
  {
   "cell_type": "markdown",
   "id": "rubber-grade",
   "metadata": {},
   "source": [
    "# Dataset & Dataloader\n"
   ]
  },
  {
   "cell_type": "code",
   "execution_count": 18,
   "id": "aa0748b7",
   "metadata": {},
   "outputs": [],
   "source": [
    "import torch"
   ]
  },
  {
   "cell_type": "code",
   "execution_count": 19,
   "id": "hearing-velvet",
   "metadata": {},
   "outputs": [],
   "source": [
    "import math\n",
    "\n",
    "def split_dataset(length, fractions):\n",
    "    lens = []\n",
    "    for frac in fractions:\n",
    "        lens.append(math.floor(length * frac))\n",
    "    lens[-1] += length - sum(lens)\n",
    "    return lens"
   ]
  },
  {
   "cell_type": "code",
   "execution_count": 34,
   "id": "permanent-nightmare",
   "metadata": {},
   "outputs": [],
   "source": [
    "train_data, val_data, test_data = torch.utils.data.random_split(\n",
    "    filtered_data.values, split_dataset(len(filtered_data), [0.8, 0.1, 0.1])\n",
    ")"
   ]
  },
  {
   "cell_type": "code",
   "execution_count": 35,
   "id": "faca0e4b",
   "metadata": {},
   "outputs": [],
   "source": [
    "from enum import Enum\n",
    "\n",
    "class RatingType(Enum):\n",
    "    speed = 0\n",
    "    service = 1\n",
    "    flavour = 2"
   ]
  },
  {
   "cell_type": "code",
   "execution_count": 68,
   "id": "arranged-baking",
   "metadata": {},
   "outputs": [],
   "source": [
    "from torch.utils.data import Dataset, DataLoader\n",
    "\n",
    "class ReviewDataset(Dataset):\n",
    "    def __init__(self, data):\n",
    "        self.data = data\n",
    "        self.text_data = tokenizer(list(self.data[:][:,3]), padding=\"max_length\", truncation=True, return_tensors=\"pt\")\n",
    "\n",
    "    def __len__(self):\n",
    "        return len(self.data)\n",
    "\n",
    "    def __getitem__(self, index):        \n",
    "        return {\n",
    "            'labels': [self.data[index][:3]],\n",
    "            'input_ids': self.text_data[index].ids\n",
    "        }"
   ]
  },
  {
   "cell_type": "code",
   "execution_count": 69,
   "id": "rapid-sapphire",
   "metadata": {},
   "outputs": [],
   "source": [
    "train_dataset = ReviewDataset(train_data)\n",
    "val_dataset = ReviewDataset(val_data)\n",
    "test_dataset = ReviewDataset(test_data)"
   ]
  },
  {
   "cell_type": "code",
   "execution_count": 134,
   "id": "german-wagon",
   "metadata": {},
   "outputs": [
    {
     "data": {
      "text/plain": [
       "(\"It's both beautiful and plentiful, well done. But I said big ayran, you sent a small one, please pay attention a little.\",\n",
       " (10, 1, 9))"
      ]
     },
     "execution_count": 134,
     "metadata": {},
     "output_type": "execute_result"
    }
   ],
   "source": [
    "# Some funny reviews :)\n",
    "train_dataset[5]"
   ]
  },
  {
   "cell_type": "code",
   "execution_count": 138,
   "id": "champion-ecology",
   "metadata": {},
   "outputs": [],
   "source": [
    "BATCH_SIZE = 64\n",
    "\n",
    "train_dataloader = DataLoader(train_dataset, batch_size=BATCH_SIZE, shuffle=True)\n",
    "val_dataloader = DataLoader(val_dataset, batch_size=BATCH_SIZE, shuffle=True)\n",
    "test_dataloader = DataLoader(test_dataset, batch_size=BATCH_SIZE, shuffle=True)"
   ]
  },
  {
   "cell_type": "markdown",
   "id": "561a6c0d",
   "metadata": {},
   "source": [
    "# Baseline\n",
    "As a baseline we use prediction as average rating"
   ]
  },
  {
   "cell_type": "code",
   "execution_count": 75,
   "id": "18e6145d",
   "metadata": {},
   "outputs": [
    {
     "name": "stdout",
     "output_type": "stream",
     "text": [
      "Speed baseline: 1.3963990154466344\n",
      "Service baseline: 0.9383491288253192\n",
      "Flavour baseline: 1.2908114812876719\n"
     ]
    }
   ],
   "source": [
    "import numpy as np\n",
    "\n",
    "speed_mse, service_mse, flavour_mse = [], [], []\n",
    "\n",
    "for sample in test_dataset:\n",
    "    average = np.mean(sample[\"labels\"])\n",
    "    speed, service, flavour = sample[\"labels\"][0]\n",
    "    speed_mse.append((average - speed) ** 2)\n",
    "    service_mse.append((average - service) ** 2)\n",
    "    flavour_mse.append((average - flavour) ** 2)\n",
    "\n",
    "print(\"Speed baseline:\", np.mean(speed_mse))\n",
    "print(\"Service baseline:\", np.mean(service_mse))\n",
    "print(\"Flavour baseline:\", np.mean(flavour_mse))"
   ]
  },
  {
   "cell_type": "markdown",
   "id": "seven-emergency",
   "metadata": {},
   "source": [
    "# Model definition\n",
    "\n",
    "RMSE - target metric\n",
    "\n",
    "We will choose MAE/MSE as a target loss function for regression\n",
    "NLL for classification"
   ]
  },
  {
   "cell_type": "markdown",
   "id": "tested-convenience",
   "metadata": {},
   "source": [
    "* [Rating Prediction from Review Text with Regularization — Linear Regression vs Logistic Regression\n",
    "](https://medium.com/mlearning-ai/rating-prediction-from-review-text-with-regularization-linear-regression-vs-logistic-regression-df0181fe9c07) TLDR; Classification is better for rating prediction than rating\n",
    "* https://medium.com/data-science-lab-spring-2021/amazon-review-rating-prediction-with-nlp-28a4acdd4352\n",
    "* https://towardsdatascience.com/review-rating-prediction-a-combined-approach-538c617c495c\n",
    "\n",
    "\n",
    "Pretrained bert:\n",
    "https://chtalhaanwar.medium.com/measure-sentence-similarity-using-the-pre-trained-bert-model-eeaf20bc1933"
   ]
  },
  {
   "cell_type": "code",
   "execution_count": 77,
   "id": "baking-focus",
   "metadata": {},
   "outputs": [],
   "source": [
    "import torch\n",
    "from torch import nn"
   ]
  },
  {
   "cell_type": "code",
   "execution_count": 215,
   "id": "3399a244",
   "metadata": {},
   "outputs": [],
   "source": [
    "class SubRatingModel(nn.Module):\n",
    "    RATING_CLASSES = 11 # 0 .. 10\n",
    "\n",
    "    def __init__(self, rating_type):\n",
    "        super().__init__()\n",
    "        self.model = AutoModel.from_pretrained(\"bert-base-uncased\") # 768 out\n",
    "        for param in self.model.parameters():\n",
    "            param.requires_grad = False\n",
    "        \n",
    "        self.linear1 = nn.Linear(769, 256) # with average rating\n",
    "        self.relu1 = nn.ReLU()\n",
    "        self.dropout1 = nn.Dropout(0.1)\n",
    "        self.linear2 = nn.Linear(256, SubRatingModel.RATING_CLASSES) # with average rating\n",
    "        self.relu2 = nn.ReLU()\n",
    "        self.dropout2 = nn.Dropout(0.1)\n",
    "\n",
    "        self.rating_type = rating_type\n",
    "\n",
    "    def forward(self, inputs):\n",
    "        target_rating = inputs['labels'][0][self.rating_type.value]\n",
    "        \n",
    "        input_ids = torch.tensor(inputs['input_ids']).reshape(1, -1).to(device)\n",
    "        aggregated_rating = torch.tensor([np.mean(inputs['labels'])],  dtype=torch.float).reshape(1, -1).to(device)\n",
    "        out = torch.tensor(self.model(input_ids).pooler_output,  dtype=torch.float).to(device)\n",
    "        out = torch.cat([out, aggregated_rating], dim=1).flatten()\n",
    "        out = self.linear1(out)\n",
    "        out = self.relu1(out)\n",
    "        out = self.dropout1(out)\n",
    "        out = self.linear2(out)\n",
    "        out = self.relu2(out)\n",
    "        out = self.dropout2(out)\n",
    "        return out\n",
    "    \n",
    "    def predict(self, inputs):\n",
    "        out = self(inputs).detach().cpu().numpy()\n",
    "        return np.argmax(out)"
   ]
  },
  {
   "cell_type": "code",
   "execution_count": 209,
   "id": "2694374d",
   "metadata": {},
   "outputs": [],
   "source": [
    "assert torch.cuda.is_available(), 'there is no cuda here!'\n",
    "device = 'cuda:2'"
   ]
  },
  {
   "cell_type": "code",
   "execution_count": 227,
   "id": "7e868b5b",
   "metadata": {},
   "outputs": [],
   "source": [
    "from torch.optim import Adam\n",
    "from tqdm.auto import tqdm\n",
    "\n",
    "criterion = nn.CrossEntropyLoss()\n",
    "\n",
    "def fit_model(model, train_dataset, val_dataset, n_epochs=10):\n",
    "    optimizer = Adam(model.parameters(), lr=1e-3)\n",
    "    \n",
    "    for epoch in range(n_epochs):\n",
    "        model.train()\n",
    "        print(f\"epoch #{epoch}\")\n",
    "        history_loss = []\n",
    "        for sample in tqdm(train_dataset):\n",
    "            target = torch.tensor([sample['labels'][0][model.rating_type.value]]).to(device)\n",
    "            optimizer.zero_grad()\n",
    "            pred = model(sample).reshape(1, -1)\n",
    "            loss = criterion(pred, target)\n",
    "\n",
    "            loss.backward()\n",
    "            history_loss.append(loss.detach().cpu())\n",
    "            optimizer.step()\n",
    "        print(f\"average loss: {np.mean(history_loss)}\")\n",
    "        \n",
    "        model.eval()\n",
    "        history_mse = []\n",
    "        for sample in tqdm(val_dataset):\n",
    "            target = torch.tensor([sample['labels'][0][model.rating_type.value]])\n",
    "            history_mse.append((model.predict(sample) - target.detach().cpu().numpy()) ** 2)\n",
    "        print(f\"average mse: {np.mean(history_mse)}\")"
   ]
  },
  {
   "cell_type": "code",
   "execution_count": 228,
   "id": "2ec4d770",
   "metadata": {},
   "outputs": [
    {
     "name": "stderr",
     "output_type": "stream",
     "text": [
      "Some weights of the model checkpoint at bert-base-uncased were not used when initializing BertModel: ['cls.seq_relationship.bias', 'cls.predictions.transform.LayerNorm.weight', 'cls.predictions.transform.LayerNorm.bias', 'cls.predictions.transform.dense.bias', 'cls.predictions.bias', 'cls.seq_relationship.weight', 'cls.predictions.transform.dense.weight', 'cls.predictions.decoder.weight']\n",
      "- This IS expected if you are initializing BertModel from the checkpoint of a model trained on another task or with another architecture (e.g. initializing a BertForSequenceClassification model from a BertForPreTraining model).\n",
      "- This IS NOT expected if you are initializing BertModel from the checkpoint of a model that you expect to be exactly identical (initializing a BertForSequenceClassification model from a BertForSequenceClassification model).\n"
     ]
    },
    {
     "name": "stdout",
     "output_type": "stream",
     "text": [
      "epoch #0\n"
     ]
    },
    {
     "data": {
      "application/vnd.jupyter.widget-view+json": {
       "model_id": "1bd0dc336a2e4f718a673d34cfe1c577",
       "version_major": 2,
       "version_minor": 0
      },
      "text/plain": [
       "  0%|          | 0/45859 [00:00<?, ?it/s]"
      ]
     },
     "metadata": {},
     "output_type": "display_data"
    },
    {
     "name": "stderr",
     "output_type": "stream",
     "text": [
      "/tmp/ipykernel_1724326/3213269177.py:24: UserWarning: To copy construct from a tensor, it is recommended to use sourceTensor.clone().detach() or sourceTensor.clone().detach().requires_grad_(True), rather than torch.tensor(sourceTensor).\n",
      "  out = torch.tensor(self.model(input_ids).pooler_output,  dtype=torch.float).to(device)\n"
     ]
    },
    {
     "name": "stdout",
     "output_type": "stream",
     "text": [
      "average loss: 1.1558653116226196\n"
     ]
    },
    {
     "data": {
      "application/vnd.jupyter.widget-view+json": {
       "model_id": "b05a2a61cba34ab99dabe0a3fed8b116",
       "version_major": 2,
       "version_minor": 0
      },
      "text/plain": [
       "  0%|          | 0/5732 [00:00<?, ?it/s]"
      ]
     },
     "metadata": {},
     "output_type": "display_data"
    },
    {
     "name": "stdout",
     "output_type": "stream",
     "text": [
      "average mse: 4.25523377529658\n",
      "epoch #1\n"
     ]
    },
    {
     "data": {
      "application/vnd.jupyter.widget-view+json": {
       "model_id": "a249eb7473f740c4b32ccfe1cdc844b1",
       "version_major": 2,
       "version_minor": 0
      },
      "text/plain": [
       "  0%|          | 0/45859 [00:00<?, ?it/s]"
      ]
     },
     "metadata": {},
     "output_type": "display_data"
    }
   ],
   "source": [
    "service_model = SubRatingModel(RatingType.service).to(device)\n",
    "fit_model(service_model, train_dataset, val_dataset, n_epochs=3)"
   ]
  },
  {
   "cell_type": "code",
   "execution_count": 229,
   "id": "41a845e2",
   "metadata": {},
   "outputs": [],
   "source": [
    "def test(model, test_dataset):\n",
    "    model.eval()\n",
    "    history_mse = []\n",
    "    for sample in tqdm(test_dataset):\n",
    "        target = torch.tensor([sample['labels'][0][model.rating_type.value]])\n",
    "        history_mse.append((model.predict(sample) - target.detach().cpu().numpy()) ** 2)\n",
    "    return np.mean(history_mse)"
   ]
  },
  {
   "cell_type": "code",
   "execution_count": 231,
   "id": "8b53961d",
   "metadata": {},
   "outputs": [
    {
     "data": {
      "application/vnd.jupyter.widget-view+json": {
       "model_id": "737fd4f7d32048e58a8cba89aa95ac37",
       "version_major": 2,
       "version_minor": 0
      },
      "text/plain": [
       "  0%|          | 0/5733 [00:00<?, ?it/s]"
      ]
     },
     "metadata": {},
     "output_type": "display_data"
    },
    {
     "name": "stderr",
     "output_type": "stream",
     "text": [
      "/tmp/ipykernel_1724326/3213269177.py:24: UserWarning: To copy construct from a tensor, it is recommended to use sourceTensor.clone().detach() or sourceTensor.clone().detach().requires_grad_(True), rather than torch.tensor(sourceTensor).\n",
      "  out = torch.tensor(self.model(input_ids).pooler_output,  dtype=torch.float).to(device)\n"
     ]
    },
    {
     "data": {
      "text/plain": [
       "6.358451072736787"
      ]
     },
     "execution_count": 231,
     "metadata": {},
     "output_type": "execute_result"
    }
   ],
   "source": [
    "test(service_model, test_dataset)"
   ]
  },
  {
   "cell_type": "code",
   "execution_count": 232,
   "id": "59c037f8",
   "metadata": {},
   "outputs": [
    {
     "name": "stderr",
     "output_type": "stream",
     "text": [
      "Some weights of the model checkpoint at bert-base-uncased were not used when initializing BertModel: ['cls.seq_relationship.bias', 'cls.predictions.transform.LayerNorm.weight', 'cls.predictions.transform.LayerNorm.bias', 'cls.predictions.transform.dense.bias', 'cls.predictions.bias', 'cls.seq_relationship.weight', 'cls.predictions.transform.dense.weight', 'cls.predictions.decoder.weight']\n",
      "- This IS expected if you are initializing BertModel from the checkpoint of a model trained on another task or with another architecture (e.g. initializing a BertForSequenceClassification model from a BertForPreTraining model).\n",
      "- This IS NOT expected if you are initializing BertModel from the checkpoint of a model that you expect to be exactly identical (initializing a BertForSequenceClassification model from a BertForSequenceClassification model).\n"
     ]
    },
    {
     "name": "stdout",
     "output_type": "stream",
     "text": [
      "epoch #0\n"
     ]
    },
    {
     "data": {
      "application/vnd.jupyter.widget-view+json": {
       "model_id": "b3c503df6b424aa48af25c9b32284998",
       "version_major": 2,
       "version_minor": 0
      },
      "text/plain": [
       "  0%|          | 0/45859 [00:00<?, ?it/s]"
      ]
     },
     "metadata": {},
     "output_type": "display_data"
    },
    {
     "name": "stderr",
     "output_type": "stream",
     "text": [
      "/tmp/ipykernel_1724326/3213269177.py:24: UserWarning: To copy construct from a tensor, it is recommended to use sourceTensor.clone().detach() or sourceTensor.clone().detach().requires_grad_(True), rather than torch.tensor(sourceTensor).\n",
      "  out = torch.tensor(self.model(input_ids).pooler_output,  dtype=torch.float).to(device)\n"
     ]
    },
    {
     "name": "stdout",
     "output_type": "stream",
     "text": [
      "average loss: 1.1679942607879639\n"
     ]
    },
    {
     "data": {
      "application/vnd.jupyter.widget-view+json": {
       "model_id": "a1cb8b4c72264c36823c885fedb1d380",
       "version_major": 2,
       "version_minor": 0
      },
      "text/plain": [
       "  0%|          | 0/5732 [00:00<?, ?it/s]"
      ]
     },
     "metadata": {},
     "output_type": "display_data"
    },
    {
     "name": "stdout",
     "output_type": "stream",
     "text": [
      "average mse: 8.492498255408234\n",
      "epoch #1\n"
     ]
    },
    {
     "data": {
      "application/vnd.jupyter.widget-view+json": {
       "model_id": "2ed85309c4724f3c864947444d3fdd36",
       "version_major": 2,
       "version_minor": 0
      },
      "text/plain": [
       "  0%|          | 0/45859 [00:00<?, ?it/s]"
      ]
     },
     "metadata": {},
     "output_type": "display_data"
    },
    {
     "name": "stdout",
     "output_type": "stream",
     "text": [
      "average loss: 1.0913149118423462\n"
     ]
    },
    {
     "data": {
      "application/vnd.jupyter.widget-view+json": {
       "model_id": "6ea81633573d4942a23b51833b9ef471",
       "version_major": 2,
       "version_minor": 0
      },
      "text/plain": [
       "  0%|          | 0/5732 [00:00<?, ?it/s]"
      ]
     },
     "metadata": {},
     "output_type": "display_data"
    },
    {
     "name": "stdout",
     "output_type": "stream",
     "text": [
      "average mse: 3.1200279134682485\n",
      "epoch #2\n"
     ]
    },
    {
     "data": {
      "application/vnd.jupyter.widget-view+json": {
       "model_id": "0675bd7b32014c55a2ccd953faafa167",
       "version_major": 2,
       "version_minor": 0
      },
      "text/plain": [
       "  0%|          | 0/45859 [00:00<?, ?it/s]"
      ]
     },
     "metadata": {},
     "output_type": "display_data"
    },
    {
     "name": "stdout",
     "output_type": "stream",
     "text": [
      "average loss: 1.0579140186309814\n"
     ]
    },
    {
     "data": {
      "application/vnd.jupyter.widget-view+json": {
       "model_id": "e90d6cf139d24130a979917e67ee3a55",
       "version_major": 2,
       "version_minor": 0
      },
      "text/plain": [
       "  0%|          | 0/5732 [00:00<?, ?it/s]"
      ]
     },
     "metadata": {},
     "output_type": "display_data"
    },
    {
     "name": "stdout",
     "output_type": "stream",
     "text": [
      "average mse: 1.904745289602233\n"
     ]
    },
    {
     "data": {
      "application/vnd.jupyter.widget-view+json": {
       "model_id": "cafc97737f284e6f94cc8b2eb6377650",
       "version_major": 2,
       "version_minor": 0
      },
      "text/plain": [
       "  0%|          | 0/5733 [00:00<?, ?it/s]"
      ]
     },
     "metadata": {},
     "output_type": "display_data"
    },
    {
     "data": {
      "text/plain": [
       "1.9051107622536194"
      ]
     },
     "execution_count": 232,
     "metadata": {},
     "output_type": "execute_result"
    }
   ],
   "source": [
    "speed_model = SubRatingModel(RatingType.speed).to(device)\n",
    "fit_model(speed_model, train_dataset, val_dataset, n_epochs=3)\n",
    "test(speed_model, test_dataset)"
   ]
  },
  {
   "cell_type": "code",
   "execution_count": null,
   "id": "c521c4a5",
   "metadata": {},
   "outputs": [
    {
     "name": "stderr",
     "output_type": "stream",
     "text": [
      "Some weights of the model checkpoint at bert-base-uncased were not used when initializing BertModel: ['cls.seq_relationship.bias', 'cls.predictions.transform.LayerNorm.weight', 'cls.predictions.transform.LayerNorm.bias', 'cls.predictions.transform.dense.bias', 'cls.predictions.bias', 'cls.seq_relationship.weight', 'cls.predictions.transform.dense.weight', 'cls.predictions.decoder.weight']\n",
      "- This IS expected if you are initializing BertModel from the checkpoint of a model trained on another task or with another architecture (e.g. initializing a BertForSequenceClassification model from a BertForPreTraining model).\n",
      "- This IS NOT expected if you are initializing BertModel from the checkpoint of a model that you expect to be exactly identical (initializing a BertForSequenceClassification model from a BertForSequenceClassification model).\n"
     ]
    },
    {
     "name": "stdout",
     "output_type": "stream",
     "text": [
      "epoch #0\n"
     ]
    },
    {
     "data": {
      "application/vnd.jupyter.widget-view+json": {
       "model_id": "35ff480bf7274f70a060ba3d9f9e41e2",
       "version_major": 2,
       "version_minor": 0
      },
      "text/plain": [
       "  0%|          | 0/45859 [00:00<?, ?it/s]"
      ]
     },
     "metadata": {},
     "output_type": "display_data"
    },
    {
     "name": "stderr",
     "output_type": "stream",
     "text": [
      "/tmp/ipykernel_1724326/3213269177.py:24: UserWarning: To copy construct from a tensor, it is recommended to use sourceTensor.clone().detach() or sourceTensor.clone().detach().requires_grad_(True), rather than torch.tensor(sourceTensor).\n",
      "  out = torch.tensor(self.model(input_ids).pooler_output,  dtype=torch.float).to(device)\n"
     ]
    }
   ],
   "source": [
    "flavour_model = SubRatingModel(RatingType.flavour).to(device)\n",
    "fit_model(flavour_model, train_dataset, val_dataset, n_epochs=3)\n",
    "test(flavour_model, test_dataset)"
   ]
  },
  {
   "cell_type": "code",
   "execution_count": 234,
   "id": "b09e0a65",
   "metadata": {},
   "outputs": [
    {
     "data": {
      "application/vnd.jupyter.widget-view+json": {
       "model_id": "53df4599f0934576a4bda8831949a090",
       "version_major": 2,
       "version_minor": 0
      },
      "text/plain": [
       "  0%|          | 0/5733 [00:00<?, ?it/s]"
      ]
     },
     "metadata": {},
     "output_type": "display_data"
    },
    {
     "name": "stderr",
     "output_type": "stream",
     "text": [
      "/tmp/ipykernel_1724326/3213269177.py:24: UserWarning: To copy construct from a tensor, it is recommended to use sourceTensor.clone().detach() or sourceTensor.clone().detach().requires_grad_(True), rather than torch.tensor(sourceTensor).\n",
      "  out = torch.tensor(self.model(input_ids).pooler_output,  dtype=torch.float).to(device)\n"
     ]
    },
    {
     "data": {
      "text/plain": [
       "10.388976103261818"
      ]
     },
     "execution_count": 234,
     "metadata": {},
     "output_type": "execute_result"
    }
   ],
   "source": [
    "test(flavour_model, test_dataset)"
   ]
  },
  {
   "cell_type": "code",
   "execution_count": null,
   "id": "656f6ee8",
   "metadata": {},
   "outputs": [],
   "source": []
  }
 ],
 "metadata": {
  "kernelspec": {
   "display_name": "Python 3 (ipykernel)",
   "language": "python",
   "name": "python3"
  },
  "language_info": {
   "codemirror_mode": {
    "name": "ipython",
    "version": 3
   },
   "file_extension": ".py",
   "mimetype": "text/x-python",
   "name": "python",
   "nbconvert_exporter": "python",
   "pygments_lexer": "ipython3",
   "version": "3.8.10"
  }
 },
 "nbformat": 4,
 "nbformat_minor": 5
}
