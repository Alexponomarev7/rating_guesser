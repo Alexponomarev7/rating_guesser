{
 "cells": [
  {
   "cell_type": "code",
   "execution_count": 31,
   "id": "d991db97",
   "metadata": {},
   "outputs": [],
   "source": [
    "import pandas as pd\n",
    "import numpy as np\n",
    "from googletrans import Translator\n",
    "from tqdm import tqdm\n",
    "from tqdm.gui import tqdm as tqdm_gui"
   ]
  },
  {
   "cell_type": "code",
   "execution_count": 33,
   "id": "4c2d9af2",
   "metadata": {},
   "outputs": [],
   "source": [
    "tqdm.pandas(ncols=50)"
   ]
  },
  {
   "cell_type": "code",
   "execution_count": 34,
   "id": "3c62a0bd",
   "metadata": {},
   "outputs": [
    {
     "data": {
      "text/html": [
       "<div>\n",
       "<style scoped>\n",
       "    .dataframe tbody tr th:only-of-type {\n",
       "        vertical-align: middle;\n",
       "    }\n",
       "\n",
       "    .dataframe tbody tr th {\n",
       "        vertical-align: top;\n",
       "    }\n",
       "\n",
       "    .dataframe thead th {\n",
       "        text-align: right;\n",
       "    }\n",
       "</style>\n",
       "<table border=\"1\" class=\"dataframe\">\n",
       "  <thead>\n",
       "    <tr style=\"text-align: right;\">\n",
       "      <th></th>\n",
       "      <th>speed</th>\n",
       "      <th>service</th>\n",
       "      <th>flavour</th>\n",
       "      <th>review</th>\n",
       "    </tr>\n",
       "  </thead>\n",
       "  <tbody>\n",
       "    <tr>\n",
       "      <th>0</th>\n",
       "      <td>-</td>\n",
       "      <td>1</td>\n",
       "      <td>1</td>\n",
       "      <td>Her zaman komşu fırından sipariş verdiğim için...</td>\n",
       "    </tr>\n",
       "    <tr>\n",
       "      <th>1</th>\n",
       "      <td>-</td>\n",
       "      <td>10</td>\n",
       "      <td>2</td>\n",
       "      <td>sosisli ürün isteyen adama peynirli bişey yol...</td>\n",
       "    </tr>\n",
       "    <tr>\n",
       "      <th>2</th>\n",
       "      <td>-</td>\n",
       "      <td>10</td>\n",
       "      <td>10</td>\n",
       "      <td>Siparisimi cok hizli getiren ekip arkadasiniza...</td>\n",
       "    </tr>\n",
       "    <tr>\n",
       "      <th>3</th>\n",
       "      <td>1</td>\n",
       "      <td>1</td>\n",
       "      <td>7</td>\n",
       "      <td>After waiting more tjan one hour, they didnt d...</td>\n",
       "    </tr>\n",
       "    <tr>\n",
       "      <th>4</th>\n",
       "      <td>4</td>\n",
       "      <td>4</td>\n",
       "      <td>1</td>\n",
       "      <td>Iyi pişsin diye söylememe rağmen az pişmiş gel...</td>\n",
       "    </tr>\n",
       "  </tbody>\n",
       "</table>\n",
       "</div>"
      ],
      "text/plain": [
       "  speed service flavour                                             review\n",
       "0     -       1       1  Her zaman komşu fırından sipariş verdiğim için...\n",
       "1     -      10       2   sosisli ürün isteyen adama peynirli bişey yol...\n",
       "2     -      10      10  Siparisimi cok hizli getiren ekip arkadasiniza...\n",
       "3     1       1       7  After waiting more tjan one hour, they didnt d...\n",
       "4     4       4       1  Iyi pişsin diye söylememe rağmen az pişmiş gel..."
      ]
     },
     "execution_count": 34,
     "metadata": {},
     "output_type": "execute_result"
    }
   ],
   "source": [
    "data = pd.read_csv('yorumsepeti.csv', sep=';')\n",
    "data.head()"
   ]
  },
  {
   "cell_type": "code",
   "execution_count": 4,
   "id": "222e1e96",
   "metadata": {},
   "outputs": [],
   "source": [
    "translator = Translator()"
   ]
  },
  {
   "cell_type": "code",
   "execution_count": 14,
   "id": "69a0d44f",
   "metadata": {},
   "outputs": [
    {
     "data": {
      "text/plain": [
       "'Always from the neighboring bakery'"
      ]
     },
     "execution_count": 14,
     "metadata": {},
     "output_type": "execute_result"
    }
   ],
   "source": [
    "translator.translate('Her zaman komşu fırından').text"
   ]
  },
  {
   "cell_type": "code",
   "execution_count": 17,
   "id": "1950a15f",
   "metadata": {},
   "outputs": [],
   "source": [
    "import time\n",
    "\n",
    "def translate_row_in_english(text, attempts=3):\n",
    "    for _ in range(attempts):\n",
    "        try:\n",
    "            return translator.translate(text).text\n",
    "        except:\n",
    "            time.sleep(1)"
   ]
  },
  {
   "cell_type": "code",
   "execution_count": 18,
   "id": "995e5317",
   "metadata": {},
   "outputs": [],
   "source": [
    "def translate_review(row):\n",
    "    row['review'] = translate_row_in_english(row['review'])\n",
    "    return row"
   ]
  },
  {
   "cell_type": "code",
   "execution_count": null,
   "id": "8b0d2f4b",
   "metadata": {},
   "outputs": [
    {
     "name": "stderr",
     "output_type": "stream",
     "text": [
      "  5%|▎     | 2794/60242 [11:12<3:42:40,  4.30it/s]"
     ]
    }
   ],
   "source": [
    "x = data.progress_apply(translate_review, axis=1, result_type='expand')"
   ]
  },
  {
   "cell_type": "code",
   "execution_count": 21,
   "id": "eca7a16a",
   "metadata": {},
   "outputs": [
    {
     "data": {
      "text/html": [
       "<div>\n",
       "<style scoped>\n",
       "    .dataframe tbody tr th:only-of-type {\n",
       "        vertical-align: middle;\n",
       "    }\n",
       "\n",
       "    .dataframe tbody tr th {\n",
       "        vertical-align: top;\n",
       "    }\n",
       "\n",
       "    .dataframe thead th {\n",
       "        text-align: right;\n",
       "    }\n",
       "</style>\n",
       "<table border=\"1\" class=\"dataframe\">\n",
       "  <thead>\n",
       "    <tr style=\"text-align: right;\">\n",
       "      <th></th>\n",
       "      <th>a</th>\n",
       "    </tr>\n",
       "  </thead>\n",
       "  <tbody>\n",
       "    <tr>\n",
       "      <th>0</th>\n",
       "      <td>-</td>\n",
       "    </tr>\n",
       "    <tr>\n",
       "      <th>1</th>\n",
       "      <td>-</td>\n",
       "    </tr>\n",
       "    <tr>\n",
       "      <th>2</th>\n",
       "      <td>-</td>\n",
       "    </tr>\n",
       "    <tr>\n",
       "      <th>3</th>\n",
       "      <td>1</td>\n",
       "    </tr>\n",
       "    <tr>\n",
       "      <th>4</th>\n",
       "      <td>4</td>\n",
       "    </tr>\n",
       "  </tbody>\n",
       "</table>\n",
       "</div>"
      ],
      "text/plain": [
       "   a\n",
       "0  -\n",
       "1  -\n",
       "2  -\n",
       "3  1\n",
       "4  4"
      ]
     },
     "execution_count": 21,
     "metadata": {},
     "output_type": "execute_result"
    }
   ],
   "source": [
    "x.head()"
   ]
  },
  {
   "cell_type": "code",
   "execution_count": null,
   "id": "92627230",
   "metadata": {},
   "outputs": [],
   "source": []
  }
 ],
 "metadata": {
  "kernelspec": {
   "display_name": "Python 3 (ipykernel)",
   "language": "python",
   "name": "python3"
  },
  "language_info": {
   "codemirror_mode": {
    "name": "ipython",
    "version": 3
   },
   "file_extension": ".py",
   "mimetype": "text/x-python",
   "name": "python",
   "nbconvert_exporter": "python",
   "pygments_lexer": "ipython3",
   "version": "3.10.8"
  }
 },
 "nbformat": 4,
 "nbformat_minor": 5
}
